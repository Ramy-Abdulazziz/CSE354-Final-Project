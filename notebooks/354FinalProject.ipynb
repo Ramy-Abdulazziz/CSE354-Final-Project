{
  "nbformat": 4,
  "nbformat_minor": 0,
  "metadata": {
    "colab": {
      "provenance": []
    },
    "kernelspec": {
      "name": "python3",
      "display_name": "Python 3"
    },
    "language_info": {
      "name": "python"
    }
  },
  "cells": [
    {
      "cell_type": "markdown",
      "source": [
        "## ***CSE354 FINAL PROJECT***"
      ],
      "metadata": {
        "id": "QnApzgVZGAWL"
      }
    },
    {
      "cell_type": "markdown",
      "source": [
        "This is the google colab notebook for the final project for CSE354 spring '23 semester. Group members are Ryan Engel, Ramy Abdullazziz, and Sahibjot Bhullar. Our project will calculate sentiment analysis of finanicial documents using the FLANG-ELECTRA dataset. We are referencing a paper that talks about how FLANG-ELECTRA is used and where it excels, it can be found at this link here: "
      ],
      "metadata": {
        "id": "9nOYYwf0FH6R"
      }
    },
    {
      "cell_type": "markdown",
      "source": [
        "## **Imports**\n",
        "\n",
        "Here we will begin installing and importing the tools necessary for using the transformers library."
      ],
      "metadata": {
        "id": "vCO55pLlGpDd"
      }
    },
    {
      "cell_type": "code",
      "source": [
        "!pip install transformers"
      ],
      "metadata": {
        "id": "rnulKjKdG8lE"
      },
      "execution_count": null,
      "outputs": []
    }
  ]
}